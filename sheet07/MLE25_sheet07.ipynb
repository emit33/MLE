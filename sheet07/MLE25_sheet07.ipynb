{
 "cells": [
  {
   "cell_type": "markdown",
   "metadata": {},
   "source": [
    "# Machine Learning Essentials SS25 - Exercise Sheet 7\n",
    "\n",
    "## Instructions\n",
    "- `TODO`'s indicate where you need to complete the implementations.\n",
    "- You may use external resources, but <b>write your own solutions</b>.\n",
    "- Provide concise, but comprehensible comments to explain what your code does.\n",
    "- Code that's unnecessarily extensive and/or not well commented will not be scored."
   ]
  },
  {
   "cell_type": "code",
   "execution_count": null,
   "metadata": {},
   "outputs": [],
   "source": [
    "import numpy as np\n",
    "import matplotlib.pyplot as plt\n",
    "from scipy.sparse import dok_matrix, coo_matrix\n",
    "from scipy.sparse.linalg import lsqr\n",
    "\n",
    "DATA_DIR = \"data/hs_tomography\"  # Change this to your data directory"
   ]
  },
  {
   "cell_type": "markdown",
   "metadata": {},
   "source": [
    "## Task 1\n"
   ]
  },
  {
   "cell_type": "code",
   "execution_count": 15,
   "metadata": {},
   "outputs": [],
   "source": [
    "def construct_X():\n",
    "    # TODO: implement vectorised sparse projection matrix X, according to the instructions on the sheet. Remember to vectorize everything (no for-loops over pixels) and use the mentioned matrix formats (COOrdinate/Compressed Sparse Column). The large case (`M=195`) should build in approx. < 10s on a laptop.\n",
    "    raise NotImplementedError\n"
   ]
  },
  {
   "cell_type": "markdown",
   "metadata": {},
   "source": [
    "### Quick sanity check \n"
   ]
  },
  {
   "cell_type": "code",
   "execution_count": null,
   "metadata": {},
   "outputs": [],
   "source": [
    "# TODO: Check if your image matches `X_example.npy` (Figure 2) up to mirror / transpose."
   ]
  },
  {
   "cell_type": "markdown",
   "metadata": {},
   "source": [
    "## Task 2 – Reconstruct the tomogram"
   ]
  },
  {
   "cell_type": "code",
   "execution_count": 13,
   "metadata": {},
   "outputs": [],
   "source": [
    "# TODO: Reconstruct the tomogram and plot it as a 2D image. Use scipy.sparse.linalg.lqsr() to make use of the sparsity of your matrix, see the instructions on the sheet.\n"
   ]
  },
  {
   "cell_type": "markdown",
   "metadata": {},
   "source": [
    "### Diagnosis\n",
    "TODO: describe the anomaly and suggest a treatment.\n"
   ]
  },
  {
   "cell_type": "markdown",
   "metadata": {},
   "source": [
    "## Task 3 "
   ]
  },
  {
   "cell_type": "code",
   "execution_count": 14,
   "metadata": {},
   "outputs": [],
   "source": [
    "def reconstruct_with_subset():\n",
    "    # TODO: Reconstruct X using only a subset of projection angles.\n",
    "    raise NotImplementedError\n",
    "\n",
    "# TODO: Reduce the number of projectio angles in a sensible way and visualize how the reconstruction is affected by the number of angles used."
   ]
  },
  {
   "cell_type": "markdown",
   "metadata": {},
   "source": [
    "TODO: state the smallest number of projections that still resolves the pathology clearly enough to give a diagnosis and propose a treatment.\n"
   ]
  }
 ],
 "metadata": {
  "kernelspec": {
   "display_name": "ml_homework",
   "language": "python",
   "name": "python3"
  },
  "language_info": {
   "codemirror_mode": {
    "name": "ipython",
    "version": 3
   },
   "file_extension": ".py",
   "mimetype": "text/x-python",
   "name": "python",
   "nbconvert_exporter": "python",
   "pygments_lexer": "ipython3",
   "version": "3.13.2"
  }
 },
 "nbformat": 4,
 "nbformat_minor": 5
}
