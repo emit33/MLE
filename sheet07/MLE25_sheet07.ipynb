{
 "cells": [
  {
   "cell_type": "markdown",
   "metadata": {},
   "source": [
    "# Machine Learning Essentials SS25 - Exercise Sheet 7\n",
    "\n",
    "## Instructions\n",
    "- `TODO`'s indicate where you need to complete the implementations.\n",
    "- You may use external resources, but <b>write your own solutions</b>.\n",
    "- Provide concise, but comprehensible comments to explain what your code does.\n",
    "- Code that's unnecessarily extensive and/or not well commented will not be scored."
   ]
  },
  {
   "cell_type": "code",
   "execution_count": null,
   "metadata": {},
   "outputs": [],
   "source": [
    "import numpy as np\n",
    "import matplotlib.pyplot as plt\n",
    "from scipy.sparse import dok_matrix, coo_matrix\n",
    "from scipy.sparse.linalg import lsqr\n",
    "\n",
    "DATA_DIR = \"/hs_tomography\"  # Change this to your data directory"
   ]
  },
  {
   "cell_type": "markdown",
   "metadata": {},
   "source": [
    "## Task 1\n"
   ]
  },
  {
   "cell_type": "code",
   "execution_count": 28,
   "id": "5403087f",
   "metadata": {},
   "outputs": [],
   "source": [
    "size = 77\n",
    "sensor_size = 109\n",
    "projection_angles = 90\n",
    "\n",
    "\n",
    "alphas = np.load(f'./{DATA_DIR}/alphas_{size}.npy')\n",
    "X_example = np.load(f'./{DATA_DIR}/X_example.npy')"
   ]
  },
  {
   "cell_type": "code",
   "execution_count": 29,
   "id": "d1126315",
   "metadata": {},
   "outputs": [
    {
     "data": {
      "text/plain": [
       "(45, 100)"
      ]
     },
     "execution_count": 29,
     "metadata": {},
     "output_type": "execute_result"
    }
   ],
   "source": [
    "X_example.shape"
   ]
  },
  {
   "cell_type": "code",
   "execution_count": 128,
   "metadata": {},
   "outputs": [],
   "source": [
    "def construct_X(M, alphas, Np=None):\n",
    "    # TODO: implement vectorised sparse projection matrix X, according to the instructions on the sheet. Remember to vectorize everything (no for-loops over pixels) and use the mentioned matrix formats (COOrdinate/Compressed Sparse Column). The large case (`M=195`) should build in approx. < 10s on a laptop.\n",
    "    if Np==None:\n",
    "        Np = int(np.ceil(np.sqrt(2)*M))\n",
    "    \n",
    "    D = M*M\n",
    "    \n",
    "\n",
    "    # C matrix with pixel centers of shape (2, D)\n",
    "\n",
    "    a, b = np.mgrid[-(M-1)/2:(M-1)/2+1, (M-1)/2:-(M-1)/2-1:-1]\n",
    "    C = np.vstack([a.ravel(order='F'), b.ravel(order='F')])\n",
    "\n",
    "    # unit vectors\n",
    "    alphas = np.deg2rad(alphas)  \n",
    "    unit_vectors = np.array([np.cos(alphas), np.sin(alphas)])\n",
    "    s0 = (Np-1)/2\n",
    "\n",
    "    row_indices = []\n",
    "    col_indices = []\n",
    "    weights = []\n",
    "\n",
    "    for i, alpha in enumerate(alphas):\n",
    "        \n",
    "        n = unit_vectors[:, i].reshape(2, 1)\n",
    "\n",
    "        P = (n.T @ C).flatten() + s0\n",
    "\n",
    "        idx_left = np.floor(P).astype(int)\n",
    "        idx_right = idx_left + 1\n",
    "\n",
    "        frac = P - idx_left\n",
    "\n",
    "        w0 = (1 - frac)\n",
    "        w1 = frac\n",
    "\n",
    "        mask0 = (idx_left >= 0) & (idx_left < Np)\n",
    "        mask1 = (idx_right >= 0) & (idx_right < Np)\n",
    "\n",
    "        row0 = idx_left[mask0] + i * Np\n",
    "        row1 = idx_right[mask1] + i * Np\n",
    "\n",
    "        col0 = np.where(mask0)[0]\n",
    "        col1 = np.where(mask1)[0]\n",
    "\n",
    "        row_indices.append(row0)\n",
    "        row_indices.append(row1)\n",
    "        col_indices.append(col0)\n",
    "        col_indices.append(col1)\n",
    "        weights.append(w0[mask0])\n",
    "        weights.append(w1[mask1])\n",
    "\n",
    "    if weights:\n",
    "        row_indices = np.concatenate(row_indices)\n",
    "        col_indices = np.concatenate(col_indices)\n",
    "        weights = np.concatenate(weights)\n",
    "\n",
    "    else:\n",
    "        row_indices = np.array([], dtype=int)\n",
    "        col_indices = np.array([], dtype=int)\n",
    "        weights = np.array([], dtype=np.float32)\n",
    "\n",
    "    return coo_matrix((weights, (row_indices, col_indices)), shape=(len(alphas) * Np, D), dtype=np.float32)\n"
   ]
  },
  {
   "cell_type": "code",
   "execution_count": 132,
   "id": "0f88f4bb",
   "metadata": {},
   "outputs": [],
   "source": [
    "X = construct_X(10, np.array([-33, 1, 42])).toarray()\n"
   ]
  },
  {
   "cell_type": "markdown",
   "metadata": {},
   "source": [
    "### Quick sanity check \n"
   ]
  },
  {
   "cell_type": "code",
   "execution_count": 133,
   "metadata": {},
   "outputs": [
    {
     "name": "stdout",
     "output_type": "stream",
     "text": [
      "True\n"
     ]
    }
   ],
   "source": [
    "# TODO: Check if your image matches `X_example.npy` (Figure 2) up to mirror / transpose.\n",
    "print(np.allclose(X, X_example, atol=1e-5))"
   ]
  },
  {
   "cell_type": "markdown",
   "metadata": {},
   "source": [
    "## Task 2 – Reconstruct the tomogram"
   ]
  },
  {
   "cell_type": "code",
   "execution_count": 13,
   "metadata": {},
   "outputs": [],
   "source": [
    "# TODO: Reconstruct the tomogram and plot it as a 2D image. Use scipy.sparse.linalg.lqsr() to make use of the sparsity of your matrix, see the instructions on the sheet.\n"
   ]
  },
  {
   "cell_type": "markdown",
   "metadata": {},
   "source": [
    "### Diagnosis\n",
    "TODO: describe the anomaly and suggest a treatment.\n"
   ]
  },
  {
   "cell_type": "markdown",
   "metadata": {},
   "source": [
    "## Task 3 "
   ]
  },
  {
   "cell_type": "code",
   "execution_count": 14,
   "metadata": {},
   "outputs": [],
   "source": [
    "def reconstruct_with_subset():\n",
    "    # TODO: Reconstruct X using only a subset of projection angles.\n",
    "    raise NotImplementedError\n",
    "\n",
    "# TODO: Reduce the number of projectio angles in a sensible way and visualize how the reconstruction is affected by the number of angles used."
   ]
  },
  {
   "cell_type": "markdown",
   "metadata": {},
   "source": [
    "TODO: state the smallest number of projections that still resolves the pathology clearly enough to give a diagnosis and propose a treatment.\n"
   ]
  }
 ],
 "metadata": {
  "kernelspec": {
   "display_name": "mle",
   "language": "python",
   "name": "python3"
  },
  "language_info": {
   "codemirror_mode": {
    "name": "ipython",
    "version": 3
   },
   "file_extension": ".py",
   "mimetype": "text/x-python",
   "name": "python",
   "nbconvert_exporter": "python",
   "pygments_lexer": "ipython3",
   "version": "3.11.11"
  }
 },
 "nbformat": 4,
 "nbformat_minor": 5
}
